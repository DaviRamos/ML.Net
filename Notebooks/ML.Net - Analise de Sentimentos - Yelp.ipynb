{
 "cells": [
  {
   "cell_type": "markdown",
   "metadata": {},
   "source": [
    "## Davi Ramos -> Cientista de Dados 👋\n",
    "(davi.info@gmail.com)\n",
    "\n",
    "[![Linkedin Badge](https://img.shields.io/badge/-LinkedIn-blue?style=flat-square&logo=Linkedin&logoColor=white&link=https://www.linkedin.com/in/davi-ramos/)](https://www.linkedin.com/in/davi-ramos/)\n",
    "[![Twitter Badge](https://img.shields.io/badge/-Twitter-1DA1F2?style=flat-square&logo=Twitter&logoColor=white&link=https://twitter.com/Daviinfo/)](https://twitter.com/Daviinfo/)\n",
    "<a href=\"https://github.com/DaviRamos\"><img src=\"https://img.shields.io/github/followers/DaviRamos.svg?label=GitHub&style=social\" alt=\"GitHub\"></a>"
   ]
  },
  {
   "cell_type": "markdown",
   "metadata": {},
   "source": [
    "# ML.Net - Análise de Sentimentos\n",
    "## Este exemplo irá criar um modelo de Análise de Sentimentos nos comentários Rotulados do Yelp."
   ]
  },
  {
   "cell_type": "code",
   "execution_count": 3,
   "metadata": {},
   "outputs": [],
   "source": [
    "// Instalar os Pacotes do Nuget\n",
    "\n",
    "// ML.NET\n",
    "#r \"nuget:Microsoft.ML\"  "
   ]
  },
  {
   "cell_type": "code",
   "execution_count": 4,
   "metadata": {},
   "outputs": [],
   "source": [
    "using System;\n",
    "using System.Collections.Generic;\n",
    "using System.IO;\n",
    "using System.Linq;\n",
    "using Microsoft.ML;\n",
    "using Microsoft.ML.Data;\n",
    "using static Microsoft.ML.DataOperationsCatalog;\n",
    "using Microsoft.ML.Trainers;\n",
    "using Microsoft.ML.Transforms.Text;"
   ]
  },
  {
   "cell_type": "code",
   "execution_count": 5,
   "metadata": {},
   "outputs": [
    {
     "name": "stderr",
     "output_type": "stream",
     "text": [
      "\n",
      "(7,17): warning CS0649: Campo \"SentimentData.Sentiment\" nunca é atribuído e sempre terá seu valor padrão false\n",
      "\n",
      "(4,19): warning CS0649: Campo \"SentimentData.SentimentText\" nunca é atribuído e sempre terá seu valor padrão null\n",
      "\n"
     ]
    }
   ],
   "source": [
    "public class SentimentData\n",
    "{\n",
    "    [LoadColumn(0)]\n",
    "    public string SentimentText;\n",
    "\n",
    "    [LoadColumn(1), ColumnName(\"Label\")]\n",
    "    public bool Sentiment;\n",
    "}\n",
    "\n",
    "public class SentimentPrediction : SentimentData\n",
    "{\n",
    "\n",
    "    [ColumnName(\"PredictedLabel\")]\n",
    "    public bool Prediction { get; set; }\n",
    "\n",
    "    public float Probability { get; set; }\n",
    "\n",
    "    public float Score { get; set; }\n",
    "}"
   ]
  },
  {
   "cell_type": "code",
   "execution_count": 6,
   "metadata": {},
   "outputs": [],
   "source": [
    "private static string TRAIN_DATA_FILEPATH = @\"./datasets/yelp_labelled/yelp_labelled.txt\";\n",
    "private static string MODEL_FILEPATH = @\"./datasets/yelp_labelled/MLModel.zip\";"
   ]
  },
  {
   "cell_type": "code",
   "execution_count": 8,
   "metadata": {},
   "outputs": [],
   "source": [
    "MLContext mlContext = new MLContext();"
   ]
  },
  {
   "cell_type": "code",
   "execution_count": 13,
   "metadata": {},
   "outputs": [],
   "source": [
    "// Note that this case, loading your training data from a file, \n",
    "// is the easiest way to get started, but ML.NET also allows you \n",
    "// to load data from databases or in-memory collections.\n",
    "IDataView dataView = mlContext.Data.LoadFromTextFile<SentimentData>(TRAIN_DATA_FILEPATH, hasHeader: false);"
   ]
  },
  {
   "cell_type": "code",
   "execution_count": 17,
   "metadata": {},
   "outputs": [],
   "source": [
    "// You need both a training dataset to train the model and a test dataset to evaluate the model.\n",
    "// Split the loaded dataset into train and test datasets\n",
    "// Specify test dataset percentage with the `testFraction`parameter\n",
    "TrainTestData splitDataView = mlContext.Data.TrainTestSplit(dataView, testFraction: 0.2);"
   ]
  },
  {
   "cell_type": "code",
   "execution_count": 20,
   "metadata": {},
   "outputs": [
    {
     "name": "stdout",
     "output_type": "stream",
     "text": [
      "=============== Create and Train the Model ===============\n",
      "=============== End of training ===============\n",
      "\n"
     ]
    },
    {
     "name": "stderr",
     "output_type": "stream",
     "text": [
      "\n",
      "(5,17): warning CS1701: Presumindo que a referência de assembly \"Microsoft.AspNetCore.Html.Abstractions, Version=2.2.0.0, Culture=neutral, PublicKeyToken=adb9793829ddae60\" usada por \"Microsoft.DotNet.Interactive.Formatting\" corresponde a identidade \"Microsoft.AspNetCore.Html.Abstractions, Version=3.1.9.0, Culture=neutral, PublicKeyToken=adb9793829ddae60\" de \"Microsoft.AspNetCore.Html.Abstractions\", talvez seja necessário fornecer a diretiva de runtime\n",
      "\n"
     ]
    }
   ],
   "source": [
    "// Create a flexible pipeline (composed by a chain of estimators) for creating/training the model.\n",
    "// This is used to format and clean the data.  \n",
    "// Convert the text column to numeric vectors (Features column)  \n",
    "// append the machine learning task to the estimator\n",
    "var estimator = mlContext.Transforms.Text.FeaturizeText(outputColumnName: \"Features\", inputColumnName: nameof(SentimentData.SentimentText))\n",
    "                            .Append(mlContext.BinaryClassification.Trainers.SdcaLogisticRegression(labelColumnName: \"Label\", featureColumnName: \"Features\"));\n",
    "// Create and train the model based on the dataset that has been loaded, transformed.\n",
    "\n",
    "Console.WriteLine(\"=============== Create and Train the Model ===============\");\n",
    "var model = estimator.Fit(splitDataView.TrainSet);\n",
    "Console.WriteLine(\"=============== End of training ===============\");\n",
    "Console.WriteLine();"
   ]
  },
  {
   "cell_type": "code",
   "execution_count": 22,
   "metadata": {},
   "outputs": [
    {
     "name": "stdout",
     "output_type": "stream",
     "text": [
      "=============== Evaluating Model accuracy with Test data===============\n",
      "\n",
      "Model quality metrics evaluation\n",
      "--------------------------------\n",
      "Accuracy: 83,96%\n",
      "Auc: 90,04%\n",
      "F1Score: 84,38%\n",
      "=============== End of model evaluation ===============\n"
     ]
    }
   ],
   "source": [
    "// Evaluate the model and show accuracy stats\n",
    "\n",
    "//Take the data in, make transformations, output the data. \n",
    "Console.WriteLine(\"=============== Evaluating Model accuracy with Test data===============\");\n",
    "IDataView predictions = model.Transform(splitDataView.TestSet);\n",
    "\n",
    "// BinaryClassificationContext.Evaluate returns a BinaryClassificationEvaluator.CalibratedResult\n",
    "// that contains the computed overall metrics.\n",
    "CalibratedBinaryClassificationMetrics metrics = mlContext.BinaryClassification.Evaluate(predictions, \"Label\");\n",
    "\n",
    "// The Accuracy metric gets the accuracy of a model, which is the proportion \n",
    "// of correct predictions in the test set.\n",
    "\n",
    "// The AreaUnderROCCurve metric is equal to the probability that the algorithm ranks\n",
    "// a randomly chosen positive instance higher than a randomly chosen negative one\n",
    "// (assuming 'positive' ranks higher than 'negative').\n",
    "\n",
    "// The F1Score metric gets the model's F1 score.\n",
    "// The F1 score is the harmonic mean of precision and recall:\n",
    "//  2 * precision * recall / (precision + recall).\n",
    "\n",
    "Console.WriteLine();\n",
    "Console.WriteLine(\"Model quality metrics evaluation\");\n",
    "Console.WriteLine(\"--------------------------------\");\n",
    "Console.WriteLine($\"Accuracy: {metrics.Accuracy:P2}\");\n",
    "Console.WriteLine($\"Auc: {metrics.AreaUnderRocCurve:P2}\");\n",
    "Console.WriteLine($\"F1Score: {metrics.F1Score:P2}\");\n",
    "Console.WriteLine(\"=============== End of model evaluation ===============\");\n"
   ]
  },
  {
   "cell_type": "code",
   "execution_count": 23,
   "metadata": {},
   "outputs": [
    {
     "name": "stdout",
     "output_type": "stream",
     "text": [
      "\n",
      "=============== Prediction Test of model with a single sample and test dataset ===============\n",
      "\n",
      "Sentiment: This was a very bad steak | Prediction: Negative | Probability: 0,02867834 \n",
      "=============== End of Predictions ===============\n",
      "\n"
     ]
    }
   ],
   "source": [
    "PredictionEngine<SentimentData, SentimentPrediction> predictionFunction = mlContext.Model.CreatePredictionEngine<SentimentData, SentimentPrediction>(model);\n",
    "\n",
    "SentimentData sampleStatement = new SentimentData\n",
    "{\n",
    "    SentimentText = \"This was a very bad steak\"\n",
    "};\n",
    "\n",
    "var resultPrediction = predictionFunction.Predict(sampleStatement);\n",
    "\n",
    "Console.WriteLine();\n",
    "Console.WriteLine(\"=============== Prediction Test of model with a single sample and test dataset ===============\");\n",
    "\n",
    "Console.WriteLine();\n",
    "Console.WriteLine($\"Sentiment: {resultPrediction.SentimentText} | Prediction: {(Convert.ToBoolean(resultPrediction.Prediction) ? \"Positive\" : \"Negative\")} | Probability: {resultPrediction.Probability} \");\n",
    "\n",
    "Console.WriteLine(\"=============== End of Predictions ===============\");\n",
    "Console.WriteLine();"
   ]
  },
  {
   "cell_type": "code",
   "execution_count": 24,
   "metadata": {},
   "outputs": [
    {
     "name": "stdout",
     "output_type": "stream",
     "text": [
      "\n",
      "=============== Prediction Test of loaded model with multiple samples ===============\n",
      "\n",
      "Sentiment: This was a horrible meal | Prediction: Negative | Probability: 0,040245872 \n",
      "Sentiment: I love this spaghetti. | Prediction: Positive | Probability: 0,9973949 \n",
      "=============== End of predictions ===============\n"
     ]
    }
   ],
   "source": [
    "// Adds some comments to test the trained model's data points.\n",
    "IEnumerable<SentimentData> sentiments = new[]\n",
    "{\n",
    "    new SentimentData\n",
    "    {\n",
    "        SentimentText = \"This was a horrible meal\"\n",
    "    },\n",
    "    new SentimentData\n",
    "    {\n",
    "        SentimentText = \"I love this spaghetti.\"\n",
    "    }\n",
    "};\n",
    "\n",
    "// Load batch comments just created \n",
    "\n",
    "IDataView batchComments = mlContext.Data.LoadFromEnumerable(sentiments);\n",
    "\n",
    "IDataView predictions = model.Transform(batchComments);\n",
    "\n",
    "// Use model to predict whether comment data is Positive (1) or Negative (0).\n",
    "IEnumerable<SentimentPrediction> predictedResults = mlContext.Data.CreateEnumerable<SentimentPrediction>(predictions, reuseRowObject: false);\n",
    "\n",
    "Console.WriteLine();\n",
    "\n",
    "Console.WriteLine(\"=============== Prediction Test of loaded model with multiple samples ===============\");\n",
    "\n",
    "Console.WriteLine();\n",
    "\n",
    "foreach (SentimentPrediction prediction in predictedResults)\n",
    "{\n",
    "    Console.WriteLine($\"Sentiment: {prediction.SentimentText} | Prediction: {(Convert.ToBoolean(prediction.Prediction) ? \"Positive\" : \"Negative\")} | Probability: {prediction.Probability} \");\n",
    "\n",
    "}\n",
    "Console.WriteLine(\"=============== End of predictions ===============\");"
   ]
  },
  {
   "cell_type": "code",
   "execution_count": null,
   "metadata": {},
   "outputs": [],
   "source": []
  }
 ],
 "metadata": {
  "kernelspec": {
   "display_name": ".NET (C#)",
   "language": "C#",
   "name": ".net-csharp"
  },
  "language_info": {
   "file_extension": ".cs",
   "mimetype": "text/x-csharp",
   "name": "C#",
   "pygments_lexer": "csharp",
   "version": "8.0"
  }
 },
 "nbformat": 4,
 "nbformat_minor": 4
}
