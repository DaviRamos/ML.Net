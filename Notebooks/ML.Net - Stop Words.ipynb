{
 "cells": [
  {
   "cell_type": "markdown",
   "metadata": {},
   "source": [
    "## Davi Ramos -> Cientista de Dados 👋\n",
    "(davi.info@gmail.com)\n",
    "\n",
    "[![Linkedin Badge](https://img.shields.io/badge/-LinkedIn-blue?style=flat-square&logo=Linkedin&logoColor=white&link=https://www.linkedin.com/in/davi-ramos/)](https://www.linkedin.com/in/davi-ramos/)\n",
    "[![Twitter Badge](https://img.shields.io/badge/-Twitter-1DA1F2?style=flat-square&logo=Twitter&logoColor=white&link=https://twitter.com/Daviinfo/)](https://twitter.com/Daviinfo/)\n",
    "<a href=\"https://github.com/DaviRamos\"><img src=\"https://img.shields.io/github/followers/DaviRamos.svg?label=GitHub&style=social\" alt=\"GitHub\"></a>"
   ]
  },
  {
   "cell_type": "markdown",
   "metadata": {},
   "source": [
    "# ML.Net - Stop Words\n",
    "## Este exemplo irá criar um modelo para Análise  de sentimentos em Comentários Tóxicos"
   ]
  },
  {
   "cell_type": "code",
   "execution_count": 2,
   "metadata": {},
   "outputs": [
    {
     "data": {
      "text/plain": [
       "Installed package Microsoft.ML version 1.5.2"
      ]
     },
     "metadata": {},
     "output_type": "display_data"
    }
   ],
   "source": [
    "// Instalar os Pacotes do Nuget\n",
    "\n",
    "// ML.NET\n",
    "#r \"nuget:Microsoft.ML\" "
   ]
  },
  {
   "cell_type": "code",
   "execution_count": 3,
   "metadata": {},
   "outputs": [],
   "source": [
    "using Microsoft.ML;\n",
    "using System;\n",
    "using System.Collections.Generic;\n",
    "using System.Text;"
   ]
  },
  {
   "cell_type": "code",
   "execution_count": 4,
   "metadata": {},
   "outputs": [],
   "source": [
    "public class TextData\n",
    "{\n",
    "    public string Text { get; set; }\n",
    "}\n",
    "\n",
    "public class TextTokens\n",
    "{\n",
    "    public string[] Tokens { get; set; }\n",
    "}"
   ]
  },
  {
   "cell_type": "code",
   "execution_count": 5,
   "metadata": {},
   "outputs": [],
   "source": [
    "private static void PrintTokens(TextTokens tokens)\n",
    "{\n",
    "    Console.WriteLine(Environment.NewLine);\n",
    "\n",
    "    var sb = new StringBuilder();\n",
    "\n",
    "    foreach (var token in tokens.Tokens)\n",
    "    {\n",
    "        sb.AppendLine(token);\n",
    "    }\n",
    "\n",
    "    Console.WriteLine(sb.ToString());\n",
    "}"
   ]
  },
  {
   "cell_type": "code",
   "execution_count": 6,
   "metadata": {},
   "outputs": [
    {
     "name": "stdout",
     "output_type": "stream",
     "text": [
      "\n",
      "\n",
      "rato\n",
      "Roeu\n",
      "a\n",
      "roupa\n",
      "do\n",
      "rei\n",
      "de\n",
      "Roma\n",
      "\n",
      "\n",
      "\n",
      "rato\n",
      "Roeu\n",
      "roupa\n",
      "rei\n",
      "Roma\n",
      "\n"
     ]
    },
    {
     "name": "stderr",
     "output_type": "stream",
     "text": [
      "\n",
      "(7,20): warning CS1701: Presumindo que a referência de assembly \"Microsoft.AspNetCore.Html.Abstractions, Version=2.2.0.0, Culture=neutral, PublicKeyToken=adb9793829ddae60\" usada por \"Microsoft.DotNet.Interactive.Formatting\" corresponde a identidade \"Microsoft.AspNetCore.Html.Abstractions, Version=3.1.9.0, Culture=neutral, PublicKeyToken=adb9793829ddae60\" de \"Microsoft.AspNetCore.Html.Abstractions\", talvez seja necessário fornecer a diretiva de runtime\n",
      "\n",
      "(19,26): warning CS1701: Presumindo que a referência de assembly \"Microsoft.AspNetCore.Html.Abstractions, Version=2.2.0.0, Culture=neutral, PublicKeyToken=adb9793829ddae60\" usada por \"Microsoft.DotNet.Interactive.Formatting\" corresponde a identidade \"Microsoft.AspNetCore.Html.Abstractions, Version=3.1.9.0, Culture=neutral, PublicKeyToken=adb9793829ddae60\" de \"Microsoft.AspNetCore.Html.Abstractions\", talvez seja necessário fornecer a diretiva de runtime\n",
      "\n"
     ]
    }
   ],
   "source": [
    "var context = new MLContext();\n",
    "\n",
    "var emptyData = new List<TextData>();\n",
    "\n",
    "var data = context.Data.LoadFromEnumerable(emptyData);\n",
    "\n",
    "var tokenization = context.Transforms.Text.TokenizeIntoWords(\"Tokens\", \"Text\", separators: new[] { ' ', '.', ',' })\n",
    "    .Append(context.Transforms.Text.RemoveDefaultStopWords(\"Tokens\", \"Tokens\",\n",
    "        Microsoft.ML.Transforms.Text.StopWordsRemovingEstimator.Language.Portuguese_Brazilian));\n",
    "\n",
    "var stopWordsModel = tokenization.Fit(data);\n",
    "\n",
    "var engine = context.Model.CreatePredictionEngine<TextData, TextTokens>(stopWordsModel);\n",
    "\n",
    "var newText = engine.Predict(new TextData { Text = \"O rato Roeu a roupa do rei de Roma.\" });\n",
    "\n",
    "PrintTokens(newText);\n",
    "\n",
    "var customTokenization = context.Transforms.Text.TokenizeIntoWords(\"Tokens\", \"Text\", separators: new[] { ' ', '.', ',' })\n",
    "    .Append(context.Transforms.Text.RemoveStopWords(\"Tokens\", \"Tokens\", new[] { \"o\", \"a\",\"do\",\"de\" }));\n",
    "\n",
    "var customStopWordsModel = customTokenization.Fit(data);\n",
    "\n",
    "var customEngine = context.Model.CreatePredictionEngine<TextData, TextTokens>(customStopWordsModel);\n",
    "\n",
    "var newCustomText = customEngine.Predict(new TextData { Text = \"O rato Roeu a roupa do rei de Roma.\" });\n",
    "\n",
    "PrintTokens(newCustomText);"
   ]
  },
  {
   "cell_type": "code",
   "execution_count": null,
   "metadata": {},
   "outputs": [],
   "source": []
  }
 ],
 "metadata": {
  "kernelspec": {
   "display_name": ".NET (C#)",
   "language": "C#",
   "name": ".net-csharp"
  },
  "language_info": {
   "file_extension": ".cs",
   "mimetype": "text/x-csharp",
   "name": "C#",
   "pygments_lexer": "csharp",
   "version": "8.0"
  }
 },
 "nbformat": 4,
 "nbformat_minor": 4
}
