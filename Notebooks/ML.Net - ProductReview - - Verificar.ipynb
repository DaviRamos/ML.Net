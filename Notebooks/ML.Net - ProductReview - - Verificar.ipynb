{
 "cells": [
  {
   "cell_type": "markdown",
   "metadata": {},
   "source": [
    "## Davi Ramos -> Cientista de Dados 👋\n",
    "(davi.info@gmail.com)\n",
    "\n",
    "[![Linkedin Badge](https://img.shields.io/badge/-LinkedIn-blue?style=flat-square&logo=Linkedin&logoColor=white&link=https://www.linkedin.com/in/davi-ramos/)](https://www.linkedin.com/in/davi-ramos/)\n",
    "[![Twitter Badge](https://img.shields.io/badge/-Twitter-1DA1F2?style=flat-square&logo=Twitter&logoColor=white&link=https://twitter.com/Daviinfo/)](https://twitter.com/Daviinfo/)\n",
    "<a href=\"https://github.com/DaviRamos\"><img src=\"https://img.shields.io/github/followers/DaviRamos.svg?label=GitHub&style=social\" alt=\"GitHub\"></a>"
   ]
  },
  {
   "cell_type": "markdown",
   "metadata": {},
   "source": [
    "# ML.Net - Stop Words\n",
    "## Este exemplo irá criar um modelo para Análise  de sentimentos em Comentários Tóxicos"
   ]
  },
  {
   "cell_type": "code",
   "execution_count": 2,
   "metadata": {},
   "outputs": [
    {
     "data": {
      "text/plain": [
       "Installed package Microsoft.ML version 1.5.2"
      ]
     },
     "metadata": {},
     "output_type": "display_data"
    }
   ],
   "source": [
    "// Instalar os Pacotes do Nuget\n",
    "\n",
    "// ML.NET\n",
    "#r \"nuget:Microsoft.ML\" "
   ]
  },
  {
   "cell_type": "code",
   "execution_count": 3,
   "metadata": {},
   "outputs": [],
   "source": [
    "using Microsoft.ML;\n",
    "using Microsoft.ML.Data;\n",
    "using System;\n",
    "using System.Threading.Tasks;"
   ]
  },
  {
   "cell_type": "code",
   "execution_count": 4,
   "metadata": {},
   "outputs": [
    {
     "name": "stderr",
     "output_type": "stream",
     "text": [
      "\n",
      "(4,17): warning CS0649: Campo \"ModelInput.Sentiment\" nunca é atribuído e sempre terá seu valor padrão false\n",
      "\n",
      "(7,19): warning CS0649: Campo \"ModelInput.Review\" nunca é atribuído e sempre terá seu valor padrão null\n",
      "\n"
     ]
    }
   ],
   "source": [
    "public class ModelInput\n",
    "{\n",
    "    [LoadColumn(0)]\n",
    "    public bool Sentiment;\n",
    "\n",
    "    [LoadColumn(1)]\n",
    "    public string Review;\n",
    "}\n",
    "\n",
    "public class ModelOutput\n",
    "{\n",
    "    [ColumnName(\"PredictedLabel\")]\n",
    "    public bool Prediction { get; set; }\n",
    "\n",
    "    [ColumnName(\"Score\")]\n",
    "    public float Score { get; set; }\n",
    "}"
   ]
  },
  {
   "cell_type": "code",
   "execution_count": 8,
   "metadata": {},
   "outputs": [],
   "source": [
    "private static string TRAIN_DATA_FILEPATH = @\"./datasets/ProductReview/product_reviews.csv\";\n",
    "private static string MODEL_FILEPATH = @\"./datasets/ProductReview/MLModel.zip\";"
   ]
  },
  {
   "cell_type": "code",
   "execution_count": 9,
   "metadata": {},
   "outputs": [
    {
     "name": "stdout",
     "output_type": "stream",
     "text": [
      "Starting training\n",
      "Training complete\n",
      "Accuracy: 0,9548387096774194\n",
      "F1Score: 0,9749784296807592\n"
     ]
    },
    {
     "name": "stderr",
     "output_type": "stream",
     "text": [
      "\n",
      "(8,27): warning CS1701: Presumindo que a referência de assembly \"Microsoft.AspNetCore.Html.Abstractions, Version=2.2.0.0, Culture=neutral, PublicKeyToken=adb9793829ddae60\" usada por \"Microsoft.DotNet.Interactive.Formatting\" corresponde a identidade \"Microsoft.AspNetCore.Html.Abstractions, Version=3.1.9.0, Culture=neutral, PublicKeyToken=adb9793829ddae60\" de \"Microsoft.AspNetCore.Html.Abstractions\", talvez seja necessário fornecer a diretiva de runtime\n",
      "\n"
     ]
    }
   ],
   "source": [
    "private static MLContext mlContext = new MLContext(seed: 1);\n",
    "\n",
    "IDataView dataView = mlContext.Data.LoadFromTextFile<ModelInput>(TRAIN_DATA_FILEPATH, hasHeader: true, separatorChar: ',');\n",
    "\n",
    "var trainTestSplit = mlContext.Data.TrainTestSplit(dataView);\n",
    "\n",
    "//Transform\n",
    "var dataProcessPipeline = mlContext.Transforms.Text.FeaturizeText(\"Review\")\n",
    "    .Append(mlContext.Transforms.CopyColumns(\"Features\", \"Review\"))\n",
    "    .Append(mlContext.Transforms.NormalizeMinMax(\"Features\", \"Features\"));\n",
    "\n",
    "//Train\n",
    "var trainer = mlContext.BinaryClassification.Trainers.LbfgsLogisticRegression(labelColumnName: \"Sentiment\", featureColumnName: \"Features\");\n",
    "\n",
    "var trainingPipeline = dataProcessPipeline.Append(trainer);\n",
    "\n",
    "Console.WriteLine(\"Starting training\");\n",
    "\n",
    "ITransformer model = trainingPipeline.Fit(trainTestSplit.TrainSet);\n",
    "\n",
    "//Evaluate\n",
    "var predicitions = model.Transform(trainTestSplit.TestSet);\n",
    "var metrics = mlContext.BinaryClassification.Evaluate(predicitions, labelColumnName: \"Sentiment\");\n",
    "\n",
    "Console.WriteLine(\"Training complete\");\n",
    "Console.WriteLine($\"Accuracy: {metrics.Accuracy}\");\n",
    "Console.WriteLine($\"F1Score: {metrics.F1Score}\");\n",
    "\n",
    "//Save\n",
    "mlContext.Model.Save(model, trainTestSplit.TrainSet.Schema, \"model.zip\");"
   ]
  }
 ],
 "metadata": {
  "kernelspec": {
   "display_name": ".NET (C#)",
   "language": "C#",
   "name": ".net-csharp"
  },
  "language_info": {
   "file_extension": ".cs",
   "mimetype": "text/x-csharp",
   "name": "C#",
   "pygments_lexer": "csharp",
   "version": "8.0"
  }
 },
 "nbformat": 4,
 "nbformat_minor": 4
}
