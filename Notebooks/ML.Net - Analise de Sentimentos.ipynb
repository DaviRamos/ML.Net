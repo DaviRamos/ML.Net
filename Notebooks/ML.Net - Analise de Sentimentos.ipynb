{
 "cells": [
  {
   "cell_type": "markdown",
   "metadata": {},
   "source": [
    "## Davi Ramos -> Cientista de Dados 👋\n",
    "(davi.info@gmail.com)\n",
    "\n",
    "[![Linkedin Badge](https://img.shields.io/badge/-LinkedIn-blue?style=flat-square&logo=Linkedin&logoColor=white&link=https://www.linkedin.com/in/davi-ramos/)](https://www.linkedin.com/in/davi-ramos/)\n",
    "[![Twitter Badge](https://img.shields.io/badge/-Twitter-1DA1F2?style=flat-square&logo=Twitter&logoColor=white&link=https://twitter.com/Daviinfo/)](https://twitter.com/Daviinfo/)\n",
    "<a href=\"https://github.com/DaviRamos\"><img src=\"https://img.shields.io/github/followers/DaviRamos.svg?label=GitHub&style=social\" alt=\"GitHub\"></a>"
   ]
  },
  {
   "cell_type": "markdown",
   "metadata": {},
   "source": [
    "# ML.Net - Análise de Sentimentos\n",
    "## Este exemplo irá criar um modelo para Análise  de sentimentos em Comentários Tóxicos"
   ]
  },
  {
   "cell_type": "code",
   "execution_count": 1,
   "metadata": {},
   "outputs": [
    {
     "data": {
      "text/html": [
       "\r\n",
       "<div>\r\n",
       "    <div id='dotnet-interactive-this-cell-2144.4135e7da49f442b2b2836e8db60e7014' style='display: none'>\r\n",
       "        The below script needs to be able to find the current output cell; this is an easy method to get it.\r\n",
       "    </div>\r\n",
       "    <script type='text/javascript'>\r\n",
       "// ensure `require` is available globally\r\n",
       "if (typeof require !== typeof Function || typeof require.config !== typeof Function) {\r\n",
       "    let require_script = document.createElement('script');\r\n",
       "    require_script.setAttribute('src', 'https://cdnjs.cloudflare.com/ajax/libs/require.js/2.3.6/require.min.js');\r\n",
       "    require_script.setAttribute('type', 'text/javascript');\r\n",
       "    require_script.onload = function () {\r\n",
       "        loadDotnetInteractiveApi();\r\n",
       "    };\r\n",
       "\r\n",
       "    document.getElementsByTagName('head')[0].appendChild(require_script);\r\n",
       "}\r\n",
       "else {\r\n",
       "    loadDotnetInteractiveApi();\r\n",
       "}\r\n",
       "\r\n",
       "async function probeAddresses(probingAddresses) {\r\n",
       "    function timeout(ms, promise) {\r\n",
       "        return new Promise(function (resolve, reject) {\r\n",
       "            setTimeout(function () {\r\n",
       "                reject(new Error('timeout'))\r\n",
       "            }, ms)\r\n",
       "            promise.then(resolve, reject)\r\n",
       "        })\r\n",
       "    }\r\n",
       "\r\n",
       "    if (Array.isArray(probingAddresses)) {\r\n",
       "        for (let i = 0; i < probingAddresses.length; i++) {\r\n",
       "\r\n",
       "            let rootUrl = probingAddresses[i];\r\n",
       "\r\n",
       "            if (!rootUrl.endsWith('/')) {\r\n",
       "                rootUrl = `${rootUrl}/`;\r\n",
       "            }\r\n",
       "\r\n",
       "            try {\r\n",
       "                let response = await timeout(1000, fetch(`${rootUrl}discovery`, {\r\n",
       "                    method: 'POST',\r\n",
       "                    cache: 'no-cache',\r\n",
       "                    mode: 'cors',\r\n",
       "                    timeout: 1000,\r\n",
       "                    headers: {\r\n",
       "                        'Content-Type': 'text/plain'\r\n",
       "                    },\r\n",
       "                    body: probingAddresses[i]\r\n",
       "                }));\r\n",
       "\r\n",
       "                if (response.status == 200) {\r\n",
       "                    return rootUrl;\r\n",
       "                }\r\n",
       "            }\r\n",
       "            catch (e) { }\r\n",
       "        }\r\n",
       "    }\r\n",
       "}\r\n",
       "\r\n",
       "function loadDotnetInteractiveApi() {\r\n",
       "    probeAddresses([\"http://172.20.32.1:1000/\", \"http://172.20.160.1:1000/\", \"http://192.168.100.3:1000/\", \"http://127.0.0.1:1000/\"])\r\n",
       "        .then((root) => {\r\n",
       "            // use probing to find host url and api resources\r\n",
       "            // load interactive helpers and language services\r\n",
       "            let dotnetInteractiveRequire = require.config({\r\n",
       "                context: '2144.4135e7da49f442b2b2836e8db60e7014',\r\n",
       "                paths: {\r\n",
       "                    'dotnet-interactive': `${root}resources`\r\n",
       "                }\r\n",
       "            }) || require;\r\n",
       "\r\n",
       "            let dotnetInteractiveExtensionsRequire = require.config({\r\n",
       "                context: '2144.4135e7da49f442b2b2836e8db60e7014',\r\n",
       "                paths: {\r\n",
       "                    'dotnet-interactive-extensions': `${root}extensions`\r\n",
       "                }\r\n",
       "            }) || require;\r\n",
       "\r\n",
       "            if (!window.dotnetInteractiveRequire) {\r\n",
       "                window.dotnetInteractiveRequire = dotnetInteractiveRequire;\r\n",
       "            }\r\n",
       "\r\n",
       "            if (!window.dotnetInteractiveExtensionsRequire) {\r\n",
       "                window.dotnetInteractiveExtensionsRequire = dotnetInteractiveExtensionsRequire;\r\n",
       "            }\r\n",
       "\r\n",
       "            window.getExtensionRequire = function(extensionName, extensionCacheBuster) {\r\n",
       "                let paths = {};\r\n",
       "                paths[extensionName] = `${root}extensions/${extensionName}/resources/`;\r\n",
       "                \r\n",
       "                let internalRequire = require.config({\r\n",
       "                    context: extensionCacheBuster,\r\n",
       "                    paths: paths,\r\n",
       "                    urlArgs: `cacheBuster=${extensionCacheBuster}`\r\n",
       "                    }) || require;\r\n",
       "\r\n",
       "                return internalRequire\r\n",
       "            };\r\n",
       "        \r\n",
       "            dotnetInteractiveRequire([\r\n",
       "                    'dotnet-interactive/dotnet-interactive'\r\n",
       "                ],\r\n",
       "                function (dotnet) {\r\n",
       "                    dotnet.init(window);\r\n",
       "                },\r\n",
       "                function (error) {\r\n",
       "                    console.log(error);\r\n",
       "                }\r\n",
       "            );\r\n",
       "        })\r\n",
       "        .catch(error => {console.log(error);});\r\n",
       "    }\r\n",
       "    </script>\r\n",
       "</div>"
      ]
     },
     "metadata": {},
     "output_type": "display_data"
    },
    {
     "data": {
      "text/plain": [
       "Installed package Microsoft.ML version 1.5.2"
      ]
     },
     "metadata": {},
     "output_type": "display_data"
    }
   ],
   "source": [
    "// Instalar os Pacotes do Nuget\n",
    "\n",
    "// ML.NET\n",
    "#r \"nuget:Microsoft.ML\"  "
   ]
  },
  {
   "cell_type": "code",
   "execution_count": 2,
   "metadata": {},
   "outputs": [],
   "source": [
    "using System;\n",
    "using System.Collections.Generic;\n",
    "using System.IO;\n",
    "using System.Linq;\n",
    "using Microsoft.ML;\n",
    "using Microsoft.ML.Data;"
   ]
  },
  {
   "cell_type": "code",
   "execution_count": 3,
   "metadata": {},
   "outputs": [],
   "source": [
    "public class ModelInput\n",
    "{\n",
    "    [ColumnName(\"Sentiment\"), LoadColumn(0)]\n",
    "    public bool Sentiment { get; set; }\n",
    "\n",
    "\n",
    "    [ColumnName(\"SentimentText\"), LoadColumn(1)]\n",
    "    public string SentimentText { get; set; }\n",
    "}\n",
    "\n",
    "public class ModelOutput\n",
    "{\n",
    "    // ColumnName attribute is used to change the column name from\n",
    "    // its default value, which is the name of the field.\n",
    "    [ColumnName(\"PredictedLabel\")]\n",
    "    public bool Prediction { get; set; }\n",
    "\n",
    "    public float Score { get; set; }\n",
    "}"
   ]
  },
  {
   "cell_type": "code",
   "execution_count": 23,
   "metadata": {},
   "outputs": [],
   "source": [
    "private static string TRAIN_DATA_FILEPATH = @\"./datasets/wikipedia_detox_250/wikipedia-detox-250-line-data.tsv\";\n",
    "private static string MODEL_FILEPATH = @\"./datasets/wikipedia_detox_250/MLModel.zip\";"
   ]
  },
  {
   "cell_type": "code",
   "execution_count": 24,
   "metadata": {},
   "outputs": [],
   "source": [
    "public static void PrintBinaryClassificationMetrics(BinaryClassificationMetrics metrics)\n",
    "{\n",
    "    Console.WriteLine($\"************************************************************\");\n",
    "    Console.WriteLine($\"*       Metrics for binary classification model      \");\n",
    "    Console.WriteLine($\"*-----------------------------------------------------------\");\n",
    "    Console.WriteLine($\"*       Accuracy: {metrics.Accuracy:P2}\");\n",
    "    Console.WriteLine($\"*       Auc:      {metrics.AreaUnderRocCurve:P2}\");\n",
    "    Console.WriteLine($\"************************************************************\");\n",
    "}\n",
    "\n",
    "\n",
    "public static void PrintBinaryClassificationFoldsAverageMetrics(IEnumerable<TrainCatalogBase.CrossValidationResult<BinaryClassificationMetrics>> crossValResults)\n",
    "{\n",
    "    var metricsInMultipleFolds = crossValResults.Select(r => r.Metrics);\n",
    "\n",
    "    var AccuracyValues = metricsInMultipleFolds.Select(m => m.Accuracy);\n",
    "    var AccuracyAverage = AccuracyValues.Average();\n",
    "    var AccuraciesStdDeviation = CalculateStandardDeviation(AccuracyValues);\n",
    "    var AccuraciesConfidenceInterval95 = CalculateConfidenceInterval95(AccuracyValues);\n",
    "\n",
    "\n",
    "    Console.WriteLine($\"*************************************************************************************************************\");\n",
    "    Console.WriteLine($\"*       Metrics for Binary Classification model      \");\n",
    "    Console.WriteLine($\"*------------------------------------------------------------------------------------------------------------\");\n",
    "    Console.WriteLine($\"*       Average Accuracy:    {AccuracyAverage:0.###}  - Standard deviation: ({AccuraciesStdDeviation:#.###})  - Confidence Interval 95%: ({AccuraciesConfidenceInterval95:#.###})\");\n",
    "    Console.WriteLine($\"*************************************************************************************************************\");\n",
    "}\n",
    "\n",
    "public static double CalculateStandardDeviation(IEnumerable<double> values)\n",
    "{\n",
    "    double average = values.Average();\n",
    "    double sumOfSquaresOfDifferences = values.Select(val => (val - average) * (val - average)).Sum();\n",
    "    double standardDeviation = Math.Sqrt(sumOfSquaresOfDifferences / (values.Count() - 1));\n",
    "    return standardDeviation;\n",
    "}\n",
    "\n",
    "public static double CalculateConfidenceInterval95(IEnumerable<double> values)\n",
    "{\n",
    "    double confidenceInterval95 = 1.96 * CalculateStandardDeviation(values) / Math.Sqrt((values.Count() - 1));\n",
    "    return confidenceInterval95;\n",
    "}"
   ]
  },
  {
   "cell_type": "code",
   "execution_count": 25,
   "metadata": {},
   "outputs": [],
   "source": [
    "private static MLContext mlContext = new MLContext(seed: 1);"
   ]
  },
  {
   "cell_type": "code",
   "execution_count": 26,
   "metadata": {},
   "outputs": [],
   "source": [
    "// Load Data\n",
    "IDataView trainingDataView = mlContext.Data.LoadFromTextFile<ModelInput>(\n",
    "                                path: TRAIN_DATA_FILEPATH,\n",
    "                                hasHeader: true,\n",
    "                                separatorChar: '\\t',\n",
    "                                allowQuoting: true,\n",
    "                                allowSparse: false);"
   ]
  },
  {
   "cell_type": "code",
   "execution_count": 32,
   "metadata": {},
   "outputs": [
    {
     "name": "stderr",
     "output_type": "stream",
     "text": [
      "\n",
      "(2,27): warning CS1701: Presumindo que a referência de assembly \"Microsoft.AspNetCore.Html.Abstractions, Version=2.2.0.0, Culture=neutral, PublicKeyToken=adb9793829ddae60\" usada por \"Microsoft.DotNet.Interactive.Formatting\" corresponde a identidade \"Microsoft.AspNetCore.Html.Abstractions, Version=3.1.9.0, Culture=neutral, PublicKeyToken=adb9793829ddae60\" de \"Microsoft.AspNetCore.Html.Abstractions\", talvez seja necessário fornecer a diretiva de runtime\n",
      "\n"
     ]
    }
   ],
   "source": [
    "// Data process configuration with pipeline data transformations \n",
    "var dataProcessPipeline = mlContext.Transforms.Text.FeaturizeText(\"SentimentText_tf\", \"SentimentText\")\n",
    "                          .Append(mlContext.Transforms.CopyColumns(\"Features\", \"SentimentText_tf\"))\n",
    "                          .Append(mlContext.Transforms.NormalizeMinMax(\"Features\", \"Features\"))\n",
    "                          .AppendCacheCheckpoint(mlContext);\n",
    "\n",
    "// Set the training algorithm \n",
    "var trainer = mlContext.BinaryClassification.Trainers.AveragedPerceptron(labelColumnName: \"Sentiment\", numberOfIterations: 10, featureColumnName: \"Features\");\n",
    "var trainingPipeline = dataProcessPipeline.Append(trainer);"
   ]
  },
  {
   "cell_type": "code",
   "execution_count": 28,
   "metadata": {},
   "outputs": [
    {
     "name": "stdout",
     "output_type": "stream",
     "text": [
      "=============== Cross-validating to get model's accuracy metrics ===============\n",
      "*************************************************************************************************************\n",
      "*       Metrics for Binary Classification model      \n",
      "*------------------------------------------------------------------------------------------------------------\n",
      "*       Average Accuracy:    0,666  - Standard deviation: (,092)  - Confidence Interval 95%: (,09)\n",
      "*************************************************************************************************************\n"
     ]
    }
   ],
   "source": [
    "// Cross-Validate with single dataset (since we don't have two datasets, one for training and for evaluate)\n",
    "// in order to evaluate and get the model's accuracy metrics\n",
    "Console.WriteLine(\"=============== Cross-validating to get model's accuracy metrics ===============\");\n",
    "var crossValidationResults = mlContext.BinaryClassification.CrossValidateNonCalibrated(trainingDataView, trainingPipeline, numberOfFolds: 5, labelColumnName: \"Sentiment\");\n",
    "PrintBinaryClassificationFoldsAverageMetrics(crossValidationResults);"
   ]
  },
  {
   "cell_type": "code",
   "execution_count": 29,
   "metadata": {},
   "outputs": [
    {
     "name": "stdout",
     "output_type": "stream",
     "text": [
      "=============== Training  model ===============\n",
      "=============== End of training process ===============\n"
     ]
    },
    {
     "data": {
      "text/html": [
       "<table><thead><tr><th><i>index</i></th><th><i>type</i></th><th></th><th>FeatureColumnName</th><th>FeatureColumnType</th><th>Model</th></tr></thead><tbody><tr><td>0</td><td><span><a href=\"https://docs.microsoft.com/dotnet/api/microsoft.ml.transforms.text.textfeaturizingestimator.transformer?view=netcore-3.0\">Microsoft.ML.Transforms.Text.TextFeaturizingEstimator+Transformer</a></span></td><td><div class=\"dni-plaintext\">Microsoft.ML.Transforms.Text.TextFeaturizingEstimator+Transformer</div></td><td></td><td></td><td></td></tr><tr><td>1</td><td><span><a href=\"https://docs.microsoft.com/dotnet/api/microsoft.ml.transforms.columncopyingtransformer?view=netcore-3.0\">Microsoft.ML.Transforms.ColumnCopyingTransformer</a></span></td><td><div class=\"dni-plaintext\">Microsoft.ML.Transforms.ColumnCopyingTransformer</div></td><td></td><td></td><td></td></tr><tr><td>2</td><td><span><a href=\"https://docs.microsoft.com/dotnet/api/microsoft.ml.transforms.normalizingtransformer?view=netcore-3.0\">Microsoft.ML.Transforms.NormalizingTransformer</a></span></td><td><div class=\"dni-plaintext\">Microsoft.ML.Transforms.NormalizingTransformer</div></td><td></td><td></td><td></td></tr><tr><td>3</td><td><span><a href=\"https://docs.microsoft.com/dotnet/api/microsoft.ml.data.binarypredictiontransformer-1?view=netcore-3.0\">Microsoft.ML.Data.BinaryPredictionTransformer&lt;Microsoft.ML.Trainers.LinearBinaryModelParameters&gt;</a></span></td><td></td><td><div class=\"dni-plaintext\">Features</div></td><td><div class=\"dni-plaintext\">Vector&lt;Single, 18068&gt;</div></td><td><div class=\"dni-plaintext\">Microsoft.ML.Trainers.LinearBinaryModelParameters</div></td></tr></tbody></table>"
      ]
     },
     "execution_count": 29,
     "metadata": {},
     "output_type": "execute_result"
    }
   ],
   "source": [
    "Console.WriteLine(\"=============== Training  model ===============\");\n",
    "\n",
    "model = trainingPipeline.Fit(trainingDataView);\n",
    "\n",
    "Console.WriteLine(\"=============== End of training process ===============\");\n",
    "return model;"
   ]
  },
  {
   "cell_type": "code",
   "execution_count": 30,
   "metadata": {},
   "outputs": [
    {
     "name": "stdout",
     "output_type": "stream",
     "text": [
      "=============== Saving the model  ===============\n",
      "The model is saved to ./datasets/wikipedia_detox_250/MLModel.zip\n"
     ]
    }
   ],
   "source": [
    "// Save/persist the trained model to a .ZIP file\n",
    "Console.WriteLine($\"=============== Saving the model  ===============\");\n",
    "mlContext.Model.Save(model, trainingDataView.Schema, MODEL_FILEPATH);\n",
    "Console.WriteLine(\"The model is saved to {0}\", MODEL_FILEPATH);"
   ]
  }
 ],
 "metadata": {
  "kernelspec": {
   "display_name": ".NET (C#)",
   "language": "C#",
   "name": ".net-csharp"
  },
  "language_info": {
   "file_extension": ".cs",
   "mimetype": "text/x-csharp",
   "name": "C#",
   "pygments_lexer": "csharp",
   "version": "8.0"
  }
 },
 "nbformat": 4,
 "nbformat_minor": 4
}
